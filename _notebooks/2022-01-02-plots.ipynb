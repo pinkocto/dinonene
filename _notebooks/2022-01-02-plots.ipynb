{
 "cells": [
  {
   "cell_type": "markdown",
   "id": "d9986c6b-5623-4b12-a417-815e823385bd",
   "metadata": {},
   "source": [
    "# 여러그림 그리기\n",
    "> 여러그림 그리기, Anscombe's quartet\n",
    "- toc: true\n",
    "- branch: master\n",
    "- badges: true\n",
    "- comments: true\n",
    "- author: dinonene\n",
    "- categories: [python]"
   ]
  },
  {
   "cell_type": "markdown",
   "id": "d1d16fb2-f742-443f-81be-353b7d92deca",
   "metadata": {},
   "source": [
    "`-` (1/2) 여러그림그리기\n",
    "\n",
    "`-` (2/2) Anscombe's quartet"
   ]
  },
  {
   "cell_type": "markdown",
   "id": "d909b217-2c26-4068-8b51-79a1a8337ac9",
   "metadata": {},
   "source": [
    "### 여러그림 그리기"
   ]
  },
  {
   "cell_type": "markdown",
   "id": "8f416ef3-3808-4656-b99d-671412bf3c1a",
   "metadata": {},
   "source": [
    "#### (1) 겹쳐그리기"
   ]
  },
  {
   "cell_type": "code",
   "execution_count": 3,
   "id": "e4b7b858-5a9d-4ea7-804a-347a8c1414eb",
   "metadata": {},
   "outputs": [],
   "source": [
    "import numpy as np\n",
    "import matplotlib.pyplot as plt"
   ]
  },
  {
   "cell_type": "code",
   "execution_count": 4,
   "id": "34c8b523-6ab3-447c-9751-217c71e39573",
   "metadata": {},
   "outputs": [
    {
     "data": {
      "text/plain": [
       "[<matplotlib.lines.Line2D at 0x1d11fdc7790>]"
      ]
     },
     "execution_count": 4,
     "metadata": {},
     "output_type": "execute_result"
    },
    {
     "data": {
      "image/png": "[encoded data removed]",
      "text/plain": [
       "<Figure size 432x288 with 1 Axes>"
      ]
     },
     "metadata": {
      "needs_background": "light"
     },
     "output_type": "display_data"
    }
   ],
   "source": [
    "x=np.arange(-5,5,0.1)\n",
    "y=2*x+np.random.normal(loc=0,scale=1,size=100)\n",
    "plt.plot(x,y,'.b')\n",
    "plt.plot(x,2*x,'--r')"
   ]
  },
  {
   "cell_type": "markdown",
   "id": "44311999-fee9-4394-bb18-ba86e3e7a7a5",
   "metadata": {},
   "source": [
    "#### (2) 따로그리기 -subplots"
   ]
  },
  {
   "cell_type": "code",
   "execution_count": 6,
   "id": "990c4023-b644-4563-bced-f962a2e993dd",
   "metadata": {},
   "outputs": [
    {
     "data": {
      "text/plain": [
       "[<matplotlib.lines.Line2D at 0x1d120034b20>]"
      ]
     },
     "execution_count": 6,
     "metadata": {},
     "output_type": "execute_result"
    },
    {
     "data": {
      "image/png": "[encoded data removed]",
      "text/plain": [
       "<Figure size 432x288 with 4 Axes>"
      ]
     },
     "metadata": {
      "needs_background": "light"
     },
     "output_type": "display_data"
    }
   ],
   "source": [
    "x=[1,2,3,4]\n",
    "y=[1,2,4,3]\n",
    "_, axs = plt.subplots(2,2)\n",
    "axs[0,0].plot(x,y,'o:r')\n",
    "axs[0,1].plot(x,y,'xb')\n",
    "axs[1,0].plot(x,y,'xm')\n",
    "axs[1,1].plot(x,y,'.--k')"
   ]
  },
  {
   "cell_type": "markdown",
   "id": "27d8774b-5d18-4ba9-88b1-433f48020269",
   "metadata": {},
   "source": [
    "> note: fmt = `[marker][line][color]`"
   ]
  },
  {
   "cell_type": "markdown",
   "id": "edf09523-1220-4f8e-92a6-bfdeec10f593",
   "metadata": {},
   "source": [
    "```python\n",
    "plt.subplots??\n",
    "\n",
    "             # using the variable ax for single a Axes\n",
    "            fig, ax = plt.subplots()\n",
    "\n",
    "            # using the variable axs for multiple Axes\n",
    "            fig, axs = plt.subplots(2, 2)\n",
    "\n",
    "            # using tuple unpacking for multiple Axes\n",
    "            fig, (ax1, ax2) = plt.subplots(1, 2)\n",
    "            fig, ((ax1, ax2), (ax3, ax4)) = plt.subplots(2, 2)\n",
    "            \n",
    "            \n",
    "            \n",
    "            fig = figure(**fig_kw)\n",
    "            axs = fig.subplots(nrows=nrows, ncols=ncols, sharex=sharex, sharey=sharey,\n",
    "                       squeeze=squeeze, subplot_kw=subplot_kw,\n",
    "                       gridspec_kw=gridspec_kw)\n",
    "            return fig, axs\n",
    "```"
   ]
  },
  {
   "cell_type": "markdown",
   "id": "ff415cf9-6769-4487-babb-85dcd46f57bb",
   "metadata": {},
   "source": [
    "- subplots의 리턴값이 $\\tt{(fig,axs)}$ 이 나오게 된다. 우리는 뒤의 axs만 관심이 있으므로 앞의 fig는 `_`로 처리한다."
   ]
  },
  {
   "cell_type": "markdown",
   "id": "d8dfdc9f-80df-43a2-b721-874f2ecae476",
   "metadata": {},
   "source": [
    "### Anscombe's quartet"
   ]
  },
  {
   "cell_type": "markdown",
   "id": "25bbf812-0440-4b9b-9196-77b3c5f1ce52",
   "metadata": {},
   "source": [
    "`-` 교훈: 데이터를 분석하기 전에 항상 시각화를 하라."
   ]
  },
  {
   "cell_type": "code",
   "execution_count": 9,
   "id": "8196a0f1-c5e3-4488-82e2-cc03c28dad4a",
   "metadata": {},
   "outputs": [],
   "source": [
    "x = [10, 8, 13, 9, 11, 14, 6, 4, 12, 7, 5]\n",
    "y1 = [8.04, 6.95, 7.58, 8.81, 8.33, 9.96, 7.24, 4.26, 10.84, 4.82, 5.68]\n",
    "y2 = [9.14, 8.14, 8.74, 8.77, 9.26, 8.10, 6.13, 3.10, 9.13, 7.26, 4.74]\n",
    "y3 = [7.46, 6.77, 12.74, 7.11, 7.81, 8.84, 6.08, 5.39, 8.15, 6.42, 5.73]\n",
    "x4 = [8, 8, 8, 8, 8, 8, 8, 19, 8, 8, 8]\n",
    "y4 = [6.58, 5.76, 7.71, 8.84, 8.47, 7.04, 5.25, 12.50, 5.56, 7.91, 6.89]"
   ]
  },
  {
   "cell_type": "code",
   "execution_count": 27,
   "id": "c189baa3-7a88-46cd-b04e-13d897e70e0f",
   "metadata": {},
   "outputs": [
    {
     "data": {
      "text/plain": [
       "[<matplotlib.lines.Line2D at 0x1d1217c8ee0>]"
      ]
     },
     "execution_count": 27,
     "metadata": {},
     "output_type": "execute_result"
    },
    {
     "data": {
      "image/png": "[encoded data removed]",
      "text/plain": [
       "<Figure size 432x288 with 4 Axes>"
      ]
     },
     "metadata": {
      "needs_background": "light"
     },
     "output_type": "display_data"
    }
   ],
   "source": [
    "_, axs = plt.subplots(2,2)\n",
    "axs[0,0].plot(x,y1,'o', color='orange')\n",
    "axs[0,1].plot(x,y2,'o', color='orange')\n",
    "axs[1,0].plot(x,y3,'o', color='orange')\n",
    "axs[1,1].plot(x4,y4,'o', color='orange')"
   ]
  },
  {
   "cell_type": "markdown",
   "id": "76b0028b-e475-475b-8386-6e63ccb9f2eb",
   "metadata": {},
   "source": [
    "`-` 상관계수를 잠깐 복습해보자.\n",
    "\n",
    "- 상관계수는 -1~1 사이의 값을 가진다. (코쉬슈바르츠 부등식을 사용하여 증명가능)\n",
    "- 완전한 직선이라면 상관계수가 1 또는 -1이다.\n",
    "- 상관계수가 1에 가까우면 양의 상관관계에 있다고 말하고 -1에 가까우면 음의 상관관계에 있다고 말한다."
   ]
  },
  {
   "cell_type": "markdown",
   "id": "b67cf717-2f60-446a-b4ac-cda44c7cf9d9",
   "metadata": {},
   "source": [
    "`-` 의문: 자료의 모양이 직선모양에 가까우면 상관계수가 큰 것이 맞나?\n",
    "\n",
    "- $x,y$ 값이 모두 큰 하나의 관측치가 상관계수값을 키울 수 있지 않나?"
   ]
  },
  {
   "cell_type": "markdown",
   "id": "43c96470-f5a3-4bce-921b-fb2d55397809",
   "metadata": {},
   "source": [
    "`-` 상관계수가 좋은 것은 맞나? (=상관계수는 두 변수의 관계를 설명하기에 충분히 적절한 통계량인가?)"
   ]
  },
  {
   "cell_type": "code",
   "execution_count": 15,
   "id": "da22a6f2-3144-4fd6-99ee-d7160fb9a7ee",
   "metadata": {},
   "outputs": [],
   "source": [
    "n=len(x)\n",
    "xtilde = (x-np.mean(x)) / (np.std(x)*np.sqrt(n)) ## x표준화\n",
    "y1tilde = (y1-np.mean(y1)) / (np.std(y1)*np.sqrt(n)) ## y1표준화"
   ]
  },
  {
   "cell_type": "code",
   "execution_count": 16,
   "id": "2c484e81-e24d-4c3d-91e3-c18b7e9b86d1",
   "metadata": {},
   "outputs": [
    {
     "data": {
      "text/plain": [
       "0.81642051634484"
      ]
     },
     "execution_count": 16,
     "metadata": {},
     "output_type": "execute_result"
    }
   ],
   "source": [
    "sum(xtilde*y1tilde)"
   ]
  },
  {
   "cell_type": "code",
   "execution_count": 17,
   "id": "ae9be83a-9ee1-4086-8e5a-6b37d3fc047b",
   "metadata": {},
   "outputs": [
    {
     "data": {
      "text/plain": [
       "array([[1.        , 0.81642052],\n",
       "       [0.81642052, 1.        ]])"
      ]
     },
     "execution_count": 17,
     "metadata": {},
     "output_type": "execute_result"
    }
   ],
   "source": [
    "np.corrcoef(x,y1)"
   ]
  },
  {
   "cell_type": "code",
   "execution_count": 18,
   "id": "bea98f0a-49fb-4c07-8428-9044699deeb2",
   "metadata": {},
   "outputs": [
    {
     "data": {
      "text/plain": [
       "array([[1.        , 0.81642052, 0.81623651, 0.81628674],\n",
       "       [0.81642052, 1.        , 0.7500054 , 0.46871668],\n",
       "       [0.81623651, 0.7500054 , 1.        , 0.58791933],\n",
       "       [0.81628674, 0.46871668, 0.58791933, 1.        ]])"
      ]
     },
     "execution_count": 18,
     "metadata": {},
     "output_type": "execute_result"
    }
   ],
   "source": [
    "np.corrcoef([x,y1,y2,y3])"
   ]
  },
  {
   "cell_type": "code",
   "execution_count": 19,
   "id": "ffe44e0d-a641-42ff-a8d4-7837f84ce01e",
   "metadata": {},
   "outputs": [
    {
     "data": {
      "text/plain": [
       "array([[1.        , 0.81652144],\n",
       "       [0.81652144, 1.        ]])"
      ]
     },
     "execution_count": 19,
     "metadata": {},
     "output_type": "execute_result"
    }
   ],
   "source": [
    "np.corrcoef([x4,y4])"
   ]
  },
  {
   "cell_type": "markdown",
   "id": "552c4e40-9f26-4c13-9323-644aa06bf285",
   "metadata": {},
   "source": [
    "`-` 위의 4개의 그림에 대한 상관계수는 모두 같다. (0.81652)"
   ]
  },
  {
   "cell_type": "markdown",
   "id": "4c3909d7-14b5-4d4d-b319-27e7269d80ea",
   "metadata": {},
   "source": [
    "`-` 상관계수는 두 변수의 관계를 설명하기에 부적절하다."
   ]
  },
  {
   "cell_type": "markdown",
   "id": "2f555d46-cd2e-4732-aae3-03f60250fc76",
   "metadata": {},
   "source": [
    "- 상관계수는 1번그림과 같이 두 변수가 선형관계에 있을 때 그 정도를 나타내는 통계량일 뿐이다.\n",
    "- 선형관계가 아닌 것처럼 보이는 자료에서 상관계수를 계산할 수 있겠으나 의미가 없다."
   ]
  },
  {
   "cell_type": "markdown",
   "id": "76abfef5-1c2f-4304-996d-791fe7f81df6",
   "metadata": {},
   "source": [
    "`-` 교훈2: 기본적인 통계량들은 실제자료를 분석하기에 부적절할 수 있다. (=통계량은 적절한 가정이 동반되어야 의미가 있다.)"
   ]
  },
  {
   "cell_type": "markdown",
   "id": "b058893b-4626-486a-84e8-d9a42ef3986a",
   "metadata": {},
   "source": [
    "> note: 통계학자는 (1) 적절한 가정을 수학적인 언어로 정의하고 (2) 그 가정하에서 통계량이 의미있다는 것을 증명해야 한다. (3) 그리고 그 결과를 시각화하여 설득한다."
   ]
  }
 ],
 "metadata": {
  "kernelspec": {
   "display_name": "Python 3 (ipykernel)",
   "language": "python",
   "name": "python3"
  },
  "language_info": {
   "codemirror_mode": {
    "name": "ipython",
    "version": 3
   },
   "file_extension": ".py",
   "mimetype": "text/x-python",
   "name": "python",
   "nbconvert_exporter": "python",
   "pygments_lexer": "ipython3",
   "version": "3.8.11"
  }
 },
 "nbformat": 4,
 "nbformat_minor": 5
}
