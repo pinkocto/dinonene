{
 "cells": [
  {
   "cell_type": "markdown",
   "id": "apparent-intellectual",
   "metadata": {},
   "source": [
    "# Lasso, Ridge, Elastic-net"
   ]
  },
  {
   "cell_type": "code",
   "execution_count": 1,
   "id": "instant-variety",
   "metadata": {},
   "outputs": [],
   "source": [
    "import os\n",
    "os.environ['R_HOME']= \"C:/Anaconda3/envs/py38r40/lib/R\" ## R.home()"
   ]
  },
  {
   "cell_type": "code",
   "execution_count": 2,
   "id": "female-tamil",
   "metadata": {},
   "outputs": [
    {
     "ename": "ModuleNotFoundError",
     "evalue": "No module named 'rpy2'",
     "output_type": "error",
     "traceback": [
      "\u001b[1;31m---------------------------------------------------------------------------\u001b[0m",
      "\u001b[1;31mModuleNotFoundError\u001b[0m                       Traceback (most recent call last)",
      "\u001b[1;32m<ipython-input-2-9e2af9466af9>\u001b[0m in \u001b[0;36m<module>\u001b[1;34m\u001b[0m\n\u001b[1;32m----> 1\u001b[1;33m \u001b[1;32mimport\u001b[0m \u001b[0mrpy2\u001b[0m\u001b[1;33m\u001b[0m\u001b[1;33m\u001b[0m\u001b[0m\n\u001b[0m\u001b[0;32m      2\u001b[0m \u001b[0mget_ipython\u001b[0m\u001b[1;33m(\u001b[0m\u001b[1;33m)\u001b[0m\u001b[1;33m.\u001b[0m\u001b[0mrun_line_magic\u001b[0m\u001b[1;33m(\u001b[0m\u001b[1;34m'load_ext'\u001b[0m\u001b[1;33m,\u001b[0m \u001b[1;34m'rpy2.ipython'\u001b[0m\u001b[1;33m)\u001b[0m\u001b[1;33m\u001b[0m\u001b[1;33m\u001b[0m\u001b[0m\n",
      "\u001b[1;31mModuleNotFoundError\u001b[0m: No module named 'rpy2'"
     ]
    }
   ],
   "source": [
    "import rpy2\n",
    "%load_ext rpy2.ipython"
   ]
  },
  {
   "cell_type": "code",
   "execution_count": 5,
   "id": "handmade-marker",
   "metadata": {},
   "outputs": [],
   "source": [
    "%%R\n",
    "set.seed(9999)\n",
    "n<-20000\n",
    "toeic <- 750 + rnorm(n,sd=80)\n",
    "toeic[toeic>990] <- 990\n",
    "toeic <- round(toeic)\n",
    "teps <- toeic + rnorm(n,sd=0.01)\n",
    "gpa <- 3.5 + rnorm(n,sd=0.3)\n",
    "gpa[gpa>4.5] <- 4.5\n",
    "gpa <- round(gpa,1)\n",
    "sal <- gpa*600 + toeic*5 + rnorm(n, sd=300)\n",
    "sal <- round(sal)"
   ]
  },
  {
   "cell_type": "markdown",
   "id": "fossil-script",
   "metadata": {},
   "source": [
    "### Analysis:"
   ]
  },
  {
   "cell_type": "markdown",
   "id": "technological-slovenia",
   "metadata": {},
   "source": [
    "#### [데이터 정리]"
   ]
  },
  {
   "cell_type": "code",
   "execution_count": 6,
   "id": "after-clock",
   "metadata": {},
   "outputs": [],
   "source": [
    "%%R\n",
    "X<-cbind(toeic,teps,gpa)\n",
    "y<-sal"
   ]
  },
  {
   "cell_type": "code",
   "execution_count": 7,
   "id": "genuine-hearts",
   "metadata": {},
   "outputs": [
    {
     "name": "stdout",
     "output_type": "stream",
     "text": [
      "     toeic     teps gpa\n",
      "[1,]   837 837.0066 3.1\n",
      "[2,]   817 816.9809 3.6\n",
      "[3,]   790 789.9939 3.5\n",
      "[4,]   688 687.9981 3.6\n",
      "[5,]   982 981.9988 2.9\n",
      "[6,]   823 823.0172 3.9\n"
     ]
    }
   ],
   "source": [
    "%%R\n",
    "head(X)"
   ]
  },
  {
   "cell_type": "code",
   "execution_count": 8,
   "id": "acting-kuwait",
   "metadata": {},
   "outputs": [],
   "source": [
    "%R -o X,y #R에서 한 데이터 파이썬으로 이동시키기"
   ]
  },
  {
   "cell_type": "code",
   "execution_count": 9,
   "id": "distinguished-writing",
   "metadata": {},
   "outputs": [
    {
     "data": {
      "text/plain": [
       "(array([[837.        , 837.00659926,   3.1       ],\n",
       "        [817.        , 816.98090417,   3.6       ],\n",
       "        [790.        , 789.99388281,   3.5       ],\n",
       "        ...,\n",
       "        [828.        , 828.00137839,   3.6       ],\n",
       "        [782.        , 782.00527482,   3.7       ],\n",
       "        [822.        , 822.01226229,   2.7       ]]),\n",
       " array([5668., 6168., 5966., ..., 6075., 6554., 5893.]))"
      ]
     },
     "execution_count": 9,
     "metadata": {},
     "output_type": "execute_result"
    }
   ],
   "source": [
    "X,y"
   ]
  },
  {
   "cell_type": "markdown",
   "id": "proper-haiti",
   "metadata": {},
   "source": [
    "### [풀이1] Ridge: 해석적풀이"
   ]
  },
  {
   "cell_type": "code",
   "execution_count": 10,
   "id": "lined-flight",
   "metadata": {},
   "outputs": [],
   "source": [
    "import numpy as np"
   ]
  },
  {
   "cell_type": "code",
   "execution_count": 11,
   "id": "valuable-holocaust",
   "metadata": {},
   "outputs": [
    {
     "data": {
      "text/plain": [
       "array([[1, 0, 0],\n",
       "       [0, 1, 0],\n",
       "       [0, 0, 1]])"
      ]
     },
     "execution_count": 11,
     "metadata": {},
     "output_type": "execute_result"
    }
   ],
   "source": [
    "λ=1\n",
    "λI=np.diag([λ]*3)\n",
    "λI"
   ]
  },
  {
   "cell_type": "code",
   "execution_count": 12,
   "id": "related-majority",
   "metadata": {},
   "outputs": [],
   "source": [
    "bhat_ridge=np.linalg.inv(X.T@X + λI) @ X.T @y"
   ]
  },
  {
   "cell_type": "code",
   "execution_count": 13,
   "id": "swiss-serum",
   "metadata": {},
   "outputs": [
    {
     "data": {
      "text/plain": [
       "array([-79.208969  ,  84.21375457, 600.83093632])"
      ]
     },
     "execution_count": 13,
     "metadata": {},
     "output_type": "execute_result"
    }
   ],
   "source": [
    "bhat_ridge"
   ]
  },
  {
   "cell_type": "markdown",
   "id": "offshore-robin",
   "metadata": {},
   "source": [
    "### [풀이2] Ridge: `sklearn` 패키지 활용"
   ]
  },
  {
   "cell_type": "code",
   "execution_count": 14,
   "id": "varying-progress",
   "metadata": {},
   "outputs": [],
   "source": [
    "from sklearn.linear_model import Ridge\n",
    "ridge=Ridge(alpha=1.0) # alpha는 lambda값임\n",
    "rlst=ridge.fit(X,y)"
   ]
  },
  {
   "cell_type": "code",
   "execution_count": 15,
   "id": "liked-break",
   "metadata": {},
   "outputs": [
    {
     "data": {
      "text/plain": [
       "array([-79.42732408,  84.45761006, 609.14106189])"
      ]
     },
     "execution_count": 15,
     "metadata": {},
     "output_type": "execute_result"
    }
   ],
   "source": [
    "#dir(rlst)\n",
    "rlst.coef_"
   ]
  },
  {
   "cell_type": "markdown",
   "id": "solved-major",
   "metadata": {},
   "source": [
    "### [풀이3] Lasso: `sklearn`패키지 이용"
   ]
  },
  {
   "cell_type": "code",
   "execution_count": 16,
   "id": "representative-master",
   "metadata": {},
   "outputs": [
    {
     "data": {
      "text/plain": [
       "array([5.02994425e+00, 5.06370365e-06, 5.98333362e+02])"
      ]
     },
     "execution_count": 16,
     "metadata": {},
     "output_type": "execute_result"
    }
   ],
   "source": [
    "from sklearn.linear_model import Lasso\n",
    "lasso=Lasso(alpha=1.0) # alpha는 lambda값임\n",
    "rlst=lasso.fit(X,y)\n",
    "rlst.coef_"
   ]
  },
  {
   "cell_type": "markdown",
   "id": "impossible-crowd",
   "metadata": {},
   "source": [
    "--> ${\\tt teps}$에 해당하는 계수가 0이므로 Lasso에 의해 변수선택이 잘 되었음을 알 수 있다."
   ]
  },
  {
   "cell_type": "markdown",
   "id": "accompanied-hindu",
   "metadata": {},
   "source": [
    "희소학습.."
   ]
  },
  {
   "cell_type": "markdown",
   "id": "billion-declaration",
   "metadata": {},
   "source": [
    "### [풀이4] Ridge: `glmnet`패키지 활용"
   ]
  },
  {
   "cell_type": "markdown",
   "id": "unlike-quest",
   "metadata": {},
   "source": [
    "- 변수 표준화를 해줌\n",
    "- 최적의 $\\lambda$값을 찾아줌"
   ]
  },
  {
   "cell_type": "code",
   "execution_count": 17,
   "id": "arranged-librarian",
   "metadata": {},
   "outputs": [
    {
     "name": "stderr",
     "output_type": "stream",
     "text": [
      "From cffi callback <function _consolewrite_ex at 0x000001D19BBFE3A0>:\n",
      "Traceback (most recent call last):\n",
      "  File \"C:\\Anaconda3\\envs\\py38r40\\lib\\site-packages\\rpy2\\rinterface_lib\\callbacks.py\", line 132, in _consolewrite_ex\n",
      "    s = conversion._cchar_to_str_with_maxlen(buf, n, _CCHAR_ENCODING)\n",
      "  File \"C:\\Anaconda3\\envs\\py38r40\\lib\\site-packages\\rpy2\\rinterface_lib\\conversion.py\", line 133, in _cchar_to_str_with_maxlen\n",
      "    s = ffi.string(c, maxlen).decode(encoding)\n",
      "UnicodeDecodeError: 'utf-8' codec can't decode byte 0xc7 in position 0: invalid continuation byte\n",
      "R[write to console]: Loaded glmnet 4.1-1\n",
      "\n"
     ]
    },
    {
     "data": {
      "image/png": "[encoded data removed]"
     },
     "metadata": {},
     "output_type": "display_data"
    }
   ],
   "source": [
    "%%R\n",
    "library(glmnet) #default로 표준화를 해준다. 그래서 편리!!!\n",
    "cvfit_ridge<-cv.glmnet(X,y,alpha=0) #cv:cross validation, alpha=0 : Ridge\n",
    "plot(cvfit_ridge)"
   ]
  },
  {
   "cell_type": "markdown",
   "id": "rational-means",
   "metadata": {},
   "source": [
    "`cv.glmnet(X,y,alpha=0)`에서\n",
    "- `alpha=0` : Ridge\n",
    "- `alpha=1` : Lasso\n",
    "- `alpha` $\\in (0,1)$ : Elastic-net"
   ]
  },
  {
   "cell_type": "markdown",
   "id": "corresponding-siemens",
   "metadata": {},
   "source": [
    "왼쪽점선: 최적값(교차검증오차의 최소값)"
   ]
  },
  {
   "cell_type": "markdown",
   "id": "specialized-aquarium",
   "metadata": {},
   "source": [
    "오른쪽점선: 최적이랑 비슷하면서 간단한 모형을 만드는 $\\lambda$"
   ]
  },
  {
   "cell_type": "code",
   "execution_count": 18,
   "id": "natural-cause",
   "metadata": {},
   "outputs": [
    {
     "name": "stdout",
     "output_type": "stream",
     "text": [
      " [1] \"lambda\"     \"cvm\"        \"cvsd\"       \"cvup\"       \"cvlo\"      \n",
      " [6] \"nzero\"      \"call\"       \"name\"       \"glmnet.fit\" \"lambda.min\"\n",
      "[11] \"lambda.1se\" \"index\"     \n"
     ]
    }
   ],
   "source": [
    "%%R\n",
    "names(cvfit_ridge)"
   ]
  },
  {
   "cell_type": "code",
   "execution_count": 19,
   "id": "environmental-magic",
   "metadata": {},
   "outputs": [
    {
     "name": "stdout",
     "output_type": "stream",
     "text": [
      "[1] 3.68502\n",
      "[1] 4.336256\n"
     ]
    }
   ],
   "source": [
    "%%R\n",
    "print(log(cvfit_ridge$lambda.min))\n",
    "print(log(cvfit_ridge$lambda.1se))"
   ]
  },
  {
   "cell_type": "markdown",
   "id": "alternate-sitting",
   "metadata": {},
   "source": [
    "따라서 람다는"
   ]
  },
  {
   "cell_type": "code",
   "execution_count": 20,
   "id": "endangered-doctrine",
   "metadata": {},
   "outputs": [
    {
     "name": "stdout",
     "output_type": "stream",
     "text": [
      "[1] 39.84592\n",
      "[1] 76.42089\n"
     ]
    }
   ],
   "source": [
    "%%R\n",
    "print(cvfit_ridge$lambda.min)\n",
    "print(cvfit_ridge$lambda.1se)"
   ]
  },
  {
   "cell_type": "code",
   "execution_count": 21,
   "id": "african-recognition",
   "metadata": {},
   "outputs": [
    {
     "name": "stdout",
     "output_type": "stream",
     "text": [
      "\n",
      "Call:  cv.glmnet(x = X, y = y, alpha = 0) \n",
      "\n",
      "Measure: Mean-Squared Error \n",
      "\n",
      "    Lambda Index Measure    SE Nonzero\n",
      "min  39.85   100   91006 884.9       3\n",
      "1se  76.42    93   91881 928.4       3\n"
     ]
    }
   ],
   "source": [
    "%%R\n",
    "cvfit_ridge #각각의 람다에 따라 다른 beta값이 나오겠지?"
   ]
  },
  {
   "cell_type": "code",
   "execution_count": 22,
   "id": "latin-sculpture",
   "metadata": {},
   "outputs": [
    {
     "name": "stdout",
     "output_type": "stream",
     "text": [
      "4 x 1 sparse Matrix of class \"dgCMatrix\"\n",
      "                     1\n",
      "(Intercept) 235.939274\n",
      "toeic         2.434812\n",
      "teps          2.413922\n",
      "gpa         566.809663\n",
      "4 x 1 sparse Matrix of class \"dgCMatrix\"\n",
      "                     1\n",
      "(Intercept) 472.998392\n",
      "toeic         2.350221\n",
      "teps          2.342250\n",
      "gpa         532.575101\n"
     ]
    }
   ],
   "source": [
    "%%R\n",
    "print(coef(cvfit_ridge,s='lambda.min'))\n",
    "print(coef(cvfit_ridge,s='lambda.1se'))"
   ]
  },
  {
   "cell_type": "markdown",
   "id": "studied-dialogue",
   "metadata": {},
   "source": [
    "두 모형이 모두 그럴듯함.\n",
    "\n",
    "(i) 토익, 텝스에 대응하는 계수합이 5이어야 하며\n",
    "\n",
    "(ii) 토익, 텝스의 계수값이 거의 비슷해야하는데\n",
    "\n",
    "이론적인 탐구내용과 일치함."
   ]
  },
  {
   "cell_type": "markdown",
   "id": "aggregate-population",
   "metadata": {},
   "source": [
    "[풀이5] Lasso: `glmnet`을 활용"
   ]
  },
  {
   "cell_type": "code",
   "execution_count": 23,
   "id": "grateful-rings",
   "metadata": {},
   "outputs": [
    {
     "name": "stdout",
     "output_type": "stream",
     "text": [
      "\n",
      "Call:  cv.glmnet(x = X, y = y, alpha = 1) \n",
      "\n",
      "Measure: Mean-Squared Error \n",
      "\n",
      "    Lambda Index Measure   SE Nonzero\n",
      "min  1.983    58   90649 1314       3\n",
      "1se 24.449    31   91842 1346       3\n"
     ]
    }
   ],
   "source": [
    "%%R\n",
    "library(glmnet)\n",
    "cvfit_lasso<-cv.glmnet(X,y,alpha=1) ## alpha=1 : Lasso\n",
    "cvfit_lasso"
   ]
  },
  {
   "cell_type": "code",
   "execution_count": 24,
   "id": "advanced-spread",
   "metadata": {},
   "outputs": [
    {
     "name": "stdout",
     "output_type": "stream",
     "text": [
      "4 x 1 sparse Matrix of class \"dgCMatrix\"\n",
      "                        1\n",
      "(Intercept) -7.508038e+00\n",
      "toeic        5.004742e+00\n",
      "teps         4.435535e-04\n",
      "gpa          6.028313e+02\n",
      "4 x 1 sparse Matrix of class \"dgCMatrix\"\n",
      "                       1\n",
      "(Intercept) 4.692355e+02\n",
      "toeic       4.720722e+00\n",
      "teps        2.299091e-04\n",
      "gpa         5.275315e+02\n"
     ]
    }
   ],
   "source": [
    "%%R\n",
    "print(coef(cvfit_lasso,s='lambda.min'))\n",
    "print(coef(cvfit_lasso,s='lambda.1se'))"
   ]
  },
  {
   "cell_type": "markdown",
   "id": "unavailable-daisy",
   "metadata": {},
   "source": [
    "## 4월 28일-(1) (중간고사 이후)"
   ]
  },
  {
   "cell_type": "markdown",
   "id": "caroline-disclaimer",
   "metadata": {},
   "source": [
    "# 예제 2"
   ]
  },
  {
   "cell_type": "markdown",
   "id": "brilliant-pearl",
   "metadata": {},
   "source": [
    "자료 : 야구선수"
   ]
  },
  {
   "cell_type": "code",
   "execution_count": 27,
   "id": "basic-honey",
   "metadata": {},
   "outputs": [
    {
     "name": "stdout",
     "output_type": "stream",
     "text": [
      "                  AtBat Hits HmRun Runs RBI Walks Years CAtBat CHits CHmRun\n",
      "-Andy Allanson      293   66     1   30  29    14     1    293    66      1\n",
      "-Alan Ashby         315   81     7   24  38    39    14   3449   835     69\n",
      "-Alvin Davis        479  130    18   66  72    76     3   1624   457     63\n",
      "-Andre Dawson       496  141    20   65  78    37    11   5628  1575    225\n",
      "-Andres Galarraga   321   87    10   39  42    30     2    396   101     12\n",
      "-Alfredo Griffin    594  169     4   74  51    35    11   4408  1133     19\n",
      "                  CRuns CRBI CWalks League Division PutOuts Assists Errors\n",
      "-Andy Allanson       30   29     14      A        E     446      33     20\n",
      "-Alan Ashby         321  414    375      N        W     632      43     10\n",
      "-Alvin Davis        224  266    263      A        W     880      82     14\n",
      "-Andre Dawson       828  838    354      N        E     200      11      3\n",
      "-Andres Galarraga    48   46     33      N        E     805      40      4\n",
      "-Alfredo Griffin    501  336    194      A        W     282     421     25\n",
      "                  Salary NewLeague\n",
      "-Andy Allanson        NA         A\n",
      "-Alan Ashby        475.0         N\n",
      "-Alvin Davis       480.0         A\n",
      "-Andre Dawson      500.0         N\n",
      "-Andres Galarraga   91.5         N\n",
      "-Alfredo Griffin   750.0         A\n"
     ]
    }
   ],
   "source": [
    "%%R\n",
    "#install.packages(\"ISLR\")\n",
    "library(ISLR)\n",
    "head(Hitters)"
   ]
  },
  {
   "cell_type": "markdown",
   "id": "worst-pressing",
   "metadata": {},
   "source": [
    "목표: $y$를 Salary로 설정하고 나머지를 $X$로 설정하고 회귀분석을 한다."
   ]
  },
  {
   "cell_type": "markdown",
   "id": "finished-catalyst",
   "metadata": {},
   "source": [
    "분석:"
   ]
  },
  {
   "cell_type": "markdown",
   "id": "saving-memphis",
   "metadata": {},
   "source": [
    "단계1: missing이 보이므로 제거"
   ]
  },
  {
   "cell_type": "code",
   "execution_count": 28,
   "id": "modern-spread",
   "metadata": {},
   "outputs": [
    {
     "name": "stdout",
     "output_type": "stream",
     "text": [
      "                  AtBat Hits HmRun Runs RBI Walks Years CAtBat CHits CHmRun\n",
      "-Alan Ashby         315   81     7   24  38    39    14   3449   835     69\n",
      "-Alvin Davis        479  130    18   66  72    76     3   1624   457     63\n",
      "-Andre Dawson       496  141    20   65  78    37    11   5628  1575    225\n",
      "-Andres Galarraga   321   87    10   39  42    30     2    396   101     12\n",
      "-Alfredo Griffin    594  169     4   74  51    35    11   4408  1133     19\n",
      "-Al Newman          185   37     1   23   8    21     2    214    42      1\n",
      "                  CRuns CRBI CWalks League Division PutOuts Assists Errors\n",
      "-Alan Ashby         321  414    375      N        W     632      43     10\n",
      "-Alvin Davis        224  266    263      A        W     880      82     14\n",
      "-Andre Dawson       828  838    354      N        E     200      11      3\n",
      "-Andres Galarraga    48   46     33      N        E     805      40      4\n",
      "-Alfredo Griffin    501  336    194      A        W     282     421     25\n",
      "-Al Newman           30    9     24      N        E      76     127      7\n",
      "                  Salary NewLeague\n",
      "-Alan Ashby        475.0         N\n",
      "-Alvin Davis       480.0         A\n",
      "-Andre Dawson      500.0         N\n",
      "-Andres Galarraga   91.5         N\n",
      "-Alfredo Griffin   750.0         A\n",
      "-Al Newman          70.0         A\n"
     ]
    }
   ],
   "source": [
    "%%R\n",
    "Hitters<-na.omit(Hitters)\n",
    "head(Hitters)"
   ]
  },
  {
   "cell_type": "markdown",
   "id": "damaged-divide",
   "metadata": {},
   "source": [
    "단계2: $X,y$분리"
   ]
  },
  {
   "cell_type": "code",
   "execution_count": 30,
   "id": "norwegian-roommate",
   "metadata": {},
   "outputs": [],
   "source": [
    "%%R\n",
    "y<- Hitters$Salary\n",
    "X<- model.matrix(Salary~., Hitters)"
   ]
  },
  {
   "cell_type": "markdown",
   "id": "recorded-commerce",
   "metadata": {},
   "source": [
    "단계3: (1) Lasso"
   ]
  },
  {
   "cell_type": "code",
   "execution_count": 33,
   "id": "defensive-picnic",
   "metadata": {},
   "outputs": [],
   "source": [
    "%%R\n",
    "#library(glmnet)\n",
    "cvfit_lasso<-cv.glmnet(X,y,alpha=1)"
   ]
  },
  {
   "cell_type": "code",
   "execution_count": 37,
   "id": "digital-bench",
   "metadata": {},
   "outputs": [
    {
     "name": "stdout",
     "output_type": "stream",
     "text": [
      "21 x 1 sparse Matrix of class \"dgCMatrix\"\n",
      "                       1\n",
      "(Intercept)  129.4155569\n",
      "(Intercept)    .        \n",
      "AtBat         -1.6130155\n",
      "Hits           5.8058915\n",
      "HmRun          .        \n",
      "Runs           .        \n",
      "RBI            .        \n",
      "Walks          4.8469340\n",
      "Years         -9.9724045\n",
      "CAtBat         .        \n",
      "CHits          .        \n",
      "CHmRun         0.5374550\n",
      "CRuns          0.6811938\n",
      "CRBI           0.3903563\n",
      "CWalks        -0.5560143\n",
      "LeagueN       32.4646094\n",
      "DivisionW   -119.3480842\n",
      "PutOuts        0.2741895\n",
      "Assists        0.1855978\n",
      "Errors        -2.1650837\n",
      "NewLeagueN     .        \n",
      "21 x 1 sparse Matrix of class \"dgCMatrix\"\n",
      "                       1\n",
      "(Intercept) 144.37970485\n",
      "(Intercept)   .         \n",
      "AtBat         .         \n",
      "Hits          1.36380384\n",
      "HmRun         .         \n",
      "Runs          .         \n",
      "RBI           .         \n",
      "Walks         1.49731098\n",
      "Years         .         \n",
      "CAtBat        .         \n",
      "CHits         .         \n",
      "CHmRun        .         \n",
      "CRuns         0.15275165\n",
      "CRBI          0.32833941\n",
      "CWalks        .         \n",
      "LeagueN       .         \n",
      "DivisionW     .         \n",
      "PutOuts       0.06625755\n",
      "Assists       .         \n",
      "Errors        .         \n",
      "NewLeagueN    .         \n"
     ]
    }
   ],
   "source": [
    "%%R\n",
    "print(coef(cvfit_lasso,s='lambda.min'))\n",
    "print(coef(cvfit_lasso,s='lambda.1se'))"
   ]
  },
  {
   "cell_type": "markdown",
   "id": "canadian-spine",
   "metadata": {},
   "source": [
    "단계3: (2) Ridge"
   ]
  },
  {
   "cell_type": "code",
   "execution_count": 39,
   "id": "improved-pollution",
   "metadata": {},
   "outputs": [
    {
     "name": "stdout",
     "output_type": "stream",
     "text": [
      "21 x 1 sparse Matrix of class \"dgCMatrix\"\n",
      "                        1\n",
      "(Intercept)  8.112693e+01\n",
      "(Intercept)  .           \n",
      "AtBat       -6.815959e-01\n",
      "Hits         2.772312e+00\n",
      "HmRun       -1.365680e+00\n",
      "Runs         1.014826e+00\n",
      "RBI          7.130225e-01\n",
      "Walks        3.378558e+00\n",
      "Years       -9.066800e+00\n",
      "CAtBat      -1.199478e-03\n",
      "CHits        1.361029e-01\n",
      "CHmRun       6.979958e-01\n",
      "CRuns        2.958896e-01\n",
      "CRBI         2.570711e-01\n",
      "CWalks      -2.789666e-01\n",
      "LeagueN      5.321272e+01\n",
      "DivisionW   -1.228345e+02\n",
      "PutOuts      2.638876e-01\n",
      "Assists      1.698796e-01\n",
      "Errors      -3.685645e+00\n",
      "NewLeagueN  -1.810510e+01\n",
      "21 x 1 sparse Matrix of class \"dgCMatrix\"\n",
      "                        1\n",
      "(Intercept) 159.796625704\n",
      "(Intercept)   .          \n",
      "AtBat         0.102483884\n",
      "Hits          0.446840518\n",
      "HmRun         1.289060569\n",
      "Runs          0.702915317\n",
      "RBI           0.686866068\n",
      "Walks         0.925962427\n",
      "Years         2.714623467\n",
      "CAtBat        0.008746278\n",
      "CHits         0.034359576\n",
      "CHmRun        0.253594870\n",
      "CRuns         0.068874010\n",
      "CRBI          0.071334608\n",
      "CWalks        0.066114944\n",
      "LeagueN       5.396487429\n",
      "DivisionW   -29.096663728\n",
      "PutOuts       0.067805862\n",
      "Assists       0.009201998\n",
      "Errors       -0.235989097\n",
      "NewLeagueN    4.457548059\n"
     ]
    }
   ],
   "source": [
    "%%R\n",
    "cvfit_ridge<-cv.glmnet(X,y,alpha=0)\n",
    "print(coef(cvfit_ridge,s='lambda.min'))\n",
    "print(coef(cvfit_ridge,s='lambda.1se'))"
   ]
  },
  {
   "cell_type": "markdown",
   "id": "dying-juvenile",
   "metadata": {},
   "source": [
    "단계3: (3) 일레스틱넷"
   ]
  },
  {
   "cell_type": "code",
   "execution_count": 40,
   "id": "attempted-huntington",
   "metadata": {},
   "outputs": [
    {
     "name": "stdout",
     "output_type": "stream",
     "text": [
      "21 x 1 sparse Matrix of class \"dgCMatrix\"\n",
      "                        1\n",
      "(Intercept)  1.107398e+02\n",
      "(Intercept)  .           \n",
      "AtBat       -1.217685e+00\n",
      "Hits         4.740325e+00\n",
      "HmRun        .           \n",
      "Runs         .           \n",
      "RBI          4.483625e-02\n",
      "Walks        4.398013e+00\n",
      "Years       -1.008495e+01\n",
      "CAtBat       .           \n",
      "CHits        8.204711e-02\n",
      "CHmRun       6.603399e-01\n",
      "CRuns        4.804831e-01\n",
      "CRBI         3.135958e-01\n",
      "CWalks      -4.387955e-01\n",
      "LeagueN      3.271547e+01\n",
      "DivisionW   -1.228382e+02\n",
      "PutOuts      2.685147e-01\n",
      "Assists      1.682786e-01\n",
      "Errors      -2.638081e+00\n",
      "NewLeagueN  -2.670575e-03\n",
      "21 x 1 sparse Matrix of class \"dgCMatrix\"\n",
      "                       1\n",
      "(Intercept) 1.831780e+02\n",
      "(Intercept) .           \n",
      "AtBat       .           \n",
      "Hits        7.163805e-01\n",
      "HmRun       .           \n",
      "Runs        5.163958e-01\n",
      "RBI         5.647107e-01\n",
      "Walks       1.257039e+00\n",
      "Years       .           \n",
      "CAtBat      3.921596e-03\n",
      "CHits       4.910562e-02\n",
      "CHmRun      2.685659e-01\n",
      "CRuns       1.182530e-01\n",
      "CRBI        1.280458e-01\n",
      "CWalks      .           \n",
      "LeagueN     .           \n",
      "DivisionW   .           \n",
      "PutOuts     5.837208e-02\n",
      "Assists     .           \n",
      "Errors      .           \n",
      "NewLeagueN  .           \n"
     ]
    }
   ],
   "source": [
    "%%R\n",
    "cvfit_elastic<-cv.glmnet(X,y,alpha=0.3)\n",
    "print(coef(cvfit_elastic,s='lambda.min'))\n",
    "print(coef(cvfit_elastic,s='lambda.1se'))"
   ]
  },
  {
   "cell_type": "markdown",
   "id": "committed-england",
   "metadata": {},
   "source": [
    "Lasso의 결과에 비해서는 합리적인 해석을 줄 수가 있다.\n",
    "\n",
    "alpha를 결정해야하는데 training/test set으로 나누어서 예측을 잘하는 그런애들로 뽑으면 된다."
   ]
  },
  {
   "cell_type": "markdown",
   "id": "unexpected-trademark",
   "metadata": {},
   "source": [
    "---\n",
    "## Next : Logistic Regression"
   ]
  }
 ],
 "metadata": {
  "kernelspec": {
   "display_name": "Python 3",
   "language": "python",
   "name": "python3"
  },
  "language_info": {
   "codemirror_mode": {
    "name": "ipython",
    "version": 3
   },
   "file_extension": ".py",
   "mimetype": "text/x-python",
   "name": "python",
   "nbconvert_exporter": "python",
   "pygments_lexer": "ipython3",
   "version": "3.8.8"
  }
 },
 "nbformat": 4,
 "nbformat_minor": 5
}
